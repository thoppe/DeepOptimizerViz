{
 "cells": [
  {
   "cell_type": "code",
   "execution_count": 1,
   "metadata": {},
   "outputs": [],
   "source": [
    "import tensorflow as tf\n",
    "import numpy as np\n",
    "from tqdm import tqdm\n",
    "#import pylab as plt\n",
    "#import matplotlib"
   ]
  },
  {
   "cell_type": "code",
   "execution_count": 29,
   "metadata": {},
   "outputs": [
    {
     "data": {
      "text/plain": [
       "array([[ 0.53318894,  0.18556347],\n",
       "       [ 0.18556347, -3.1263354 ]], dtype=float32)"
      ]
     },
     "execution_count": 29,
     "metadata": {},
     "output_type": "execute_result"
    }
   ],
   "source": [
    "N = 2\n",
    "A = np.random.normal(size=(N,N)).astype(np.float32)\n",
    "A += A.T\n",
    "A"
   ]
  },
  {
   "cell_type": "code",
   "execution_count": 30,
   "metadata": {},
   "outputs": [
    {
     "name": "stdout",
     "output_type": "stream",
     "text": [
      "[ 0.5425742 -3.1357207]\n",
      "[[ 0.99872345 -0.05051272]\n",
      " [ 0.05051272  0.99872345]]\n"
     ]
    }
   ],
   "source": [
    "print(np.linalg.eig(A)[0])\n",
    "print(np.linalg.eig(A)[1])"
   ]
  },
  {
   "cell_type": "code",
   "execution_count": 31,
   "metadata": {},
   "outputs": [],
   "source": [
    "vals = tf.Variable(tf.random_normal([N,]))\n",
    "L = tf.diag(vals)\n",
    "V = tf.Variable(tf.random_normal([N,N]))"
   ]
  },
  {
   "cell_type": "code",
   "execution_count": 32,
   "metadata": {},
   "outputs": [],
   "source": [
    "#loss = tf.matmul(A - L, V)\n",
    "loss = tf.matrix_determinant(A-L)**2\n",
    "\n",
    "#loss = tf.reduce_sum(tf.square(loss))\n",
    "\n",
    "# Discourage trivial solution\n",
    "#loss += 0.0000001*tf.reduce_sum(tf.square(V))"
   ]
  },
  {
   "cell_type": "code",
   "execution_count": 33,
   "metadata": {},
   "outputs": [],
   "source": [
    "opt = tf.train.AdamOptimizer(learning_rate=0.01)\n",
    "train_op = opt.minimize(loss)"
   ]
  },
  {
   "cell_type": "code",
   "execution_count": 35,
   "metadata": {},
   "outputs": [
    {
     "name": "stderr",
     "output_type": "stream",
     "text": [
      "100%|██████████| 5000/5000 [00:06<00:00, 723.96it/s]\n"
     ]
    }
   ],
   "source": [
    "sess = tf.Session()\n",
    "init = tf.global_variables_initializer()\n",
    "sess.run(init)\n",
    "\n",
    "result = []\n",
    "for n in tqdm(range(5000)):\n",
    "    _, lx = sess.run([train_op, loss])"
   ]
  },
  {
   "cell_type": "code",
   "execution_count": 36,
   "metadata": {},
   "outputs": [
    {
     "name": "stdout",
     "output_type": "stream",
     "text": [
      "Loss 0.000000\n",
      "[-0.8621739 -3.151012 ]\n",
      "[ 0.5425742 -3.1357207]\n"
     ]
    }
   ],
   "source": [
    "closs, cL, cV = sess.run([loss, L, V])\n",
    "print(f\"Loss {lx:0.6f}\")\n",
    "print(np.diag(cL))\n",
    "print(np.linalg.eig(A)[0])\n",
    "#print(cV)\n"
   ]
  },
  {
   "cell_type": "code",
   "execution_count": 42,
   "metadata": {},
   "outputs": [
    {
     "name": "stdout",
     "output_type": "stream",
     "text": [
      "-1.0461345e-06\n",
      "-0.03452189\n"
     ]
    }
   ],
   "source": [
    "print(np.linalg.det(A-cL))\n",
    "print(np.linalg.det(A-np.diag(np.linalg.eig(A)[0])))"
   ]
  },
  {
   "cell_type": "code",
   "execution_count": null,
   "metadata": {},
   "outputs": [],
   "source": []
  },
  {
   "cell_type": "code",
   "execution_count": null,
   "metadata": {},
   "outputs": [],
   "source": []
  }
 ],
 "metadata": {
  "kernelspec": {
   "display_name": "Python 3",
   "language": "python",
   "name": "python3"
  },
  "language_info": {
   "codemirror_mode": {
    "name": "ipython",
    "version": 3
   },
   "file_extension": ".py",
   "mimetype": "text/x-python",
   "name": "python",
   "nbconvert_exporter": "python",
   "pygments_lexer": "ipython3",
   "version": "3.6.0"
  }
 },
 "nbformat": 4,
 "nbformat_minor": 2
}

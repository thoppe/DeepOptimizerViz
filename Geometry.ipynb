{
 "cells": [
  {
   "cell_type": "code",
   "execution_count": 186,
   "metadata": {},
   "outputs": [],
   "source": [
    "import tensorflow as tf\n",
    "import pylab as plt\n",
    "import numpy as np\n",
    "from tqdm import tqdm\n",
    "import matplotlib\n",
    "cmap = matplotlib.cm.get_cmap('Spectral')"
   ]
  },
  {
   "cell_type": "code",
   "execution_count": 149,
   "metadata": {},
   "outputs": [
    {
     "data": {
      "image/png": "[encoded data removed]",
      "text/plain": [
       "<Figure size 432x288 with 1 Axes>"
      ]
     },
     "metadata": {
      "needs_background": "light"
     },
     "output_type": "display_data"
    }
   ],
   "source": [
    "N = 100\n",
    "theta = np.linspace(0, 2*np.pi, N+1)[:-1]\n",
    "\n",
    "r = 1+np.random.normal(0,.1,size=(N,))\n",
    "x = r*np.cos(theta)\n",
    "y = r*np.sin(theta)\n",
    "\n",
    "d = np.sqrt((x-np.roll(x,1))**2 + (y-np.roll(y,1))**2)\n",
    "\n",
    "\n",
    "s = (r+np.roll(r,1)+d)/2\n",
    "area = np.sum((np.sqrt(s*(s-r)*(s-np.roll(r,1))*(s-d))))\n",
    "perimeter = np.sum(d)\n",
    "\n",
    "area, perimeter\n",
    "plt.plot(x,y)\n",
    "plt.axis('equal')\n",
    "plt.show()"
   ]
  },
  {
   "cell_type": "code",
   "execution_count": 220,
   "metadata": {},
   "outputs": [],
   "source": [
    "theta = tf.linspace(0.0, 2*np.pi, N+1)[:-1]\n",
    "r = 1 + tf.Variable(tf.random_normal([N,], 0, 0.1))\n",
    "\n",
    "x = r*tf.cos(theta)\n",
    "y = r*tf.sin(theta)\n",
    "\n",
    "roll = tf.manip.roll\n",
    "\n",
    "r2 = roll(r,-1,0)\n",
    "x2 = roll(x,-1,0)\n",
    "y2 = roll(y,-1,0)\n",
    "\n",
    "d = tf.sqrt((x-x2)**2 + (y-y2)**2)\n",
    "s = (r+r2+d)/2\n",
    "\n",
    "area_chunks = tf.sqrt(s*(s-r)*(s-r2)*(s-d))\n",
    "area = tf.reduce_sum(area_chunks)\n",
    "perimeter = tf.reduce_sum(d)"
   ]
  },
  {
   "cell_type": "code",
   "execution_count": 221,
   "metadata": {},
   "outputs": [
    {
     "data": {
      "text/plain": [
       "[3.1260467, 12.780053]"
      ]
     },
     "execution_count": 221,
     "metadata": {},
     "output_type": "execute_result"
    }
   ],
   "source": [
    "init = tf.global_variables_initializer()\n",
    "sess = tf.Session()\n",
    "sess.run(init)\n",
    "sess.run([area, perimeter])"
   ]
  },
  {
   "cell_type": "code",
   "execution_count": 222,
   "metadata": {},
   "outputs": [],
   "source": [
    "xg = tf.gradients(x,theta)[0]\n",
    "yg = tf.gradients(y,theta)[0]\n",
    "\n",
    "xgg = tf.gradients(xg,theta)[0]\n",
    "ygg = tf.gradients(yg,theta)[0]\n",
    "\n",
    "ku = tf.abs(xg*ygg + yg*xgg)\n",
    "ku /= tf.pow(xg**2 + yg**2, 3/2.0)\n",
    "mean_curvature = tf.reduce_sum(ku*d) \n",
    "#sess.run(mean_curvature)"
   ]
  },
  {
   "cell_type": "code",
   "execution_count": 239,
   "metadata": {},
   "outputs": [],
   "source": [
    "area_loss = (area-1)**2\n",
    "aw = tf.exp(-area_loss**2) * .001\n",
    "\n",
    "loss = area_loss #+ perimeter*aw + aw*(tf.reduce_mean(x**2)+tf.reduce_mean(y**2))\n",
    "loss += aw*(mean_curvature)**2\n",
    "loss += aw*(tf.reduce_mean(x**2)+tf.reduce_mean(y**2))\n",
    "\n",
    "#opt = tf.train.GradientDescentOptimizer(learning_rate=0.001)\n",
    "opt = tf.train.AdamOptimizer(learning_rate=0.01)\n",
    "train_op = opt.minimize(loss)"
   ]
  },
  {
   "cell_type": "code",
   "execution_count": 240,
   "metadata": {},
   "outputs": [
    {
     "name": "stderr",
     "output_type": "stream",
     "text": [
      " 24%|██▍       | 1201/5000 [00:01<00:40, 93.38it/s]"
     ]
    },
    {
     "name": "stdout",
     "output_type": "stream",
     "text": [
      "Area 1.000, perimeter 3.573 curvature 4.0056 loss 0.0164\n",
      "4.0055866\n"
     ]
    },
    {
     "name": "stderr",
     "output_type": "stream",
     "text": [
      " 43%|████▎     | 2144/5000 [00:01<00:04, 635.43it/s]"
     ]
    },
    {
     "name": "stdout",
     "output_type": "stream",
     "text": [
      "Area 1.000, perimeter 3.553 curvature 4.0018 loss 0.0163\n",
      "4.001841\n"
     ]
    },
    {
     "name": "stderr",
     "output_type": "stream",
     "text": [
      " 65%|██████▍   | 3229/5000 [00:02<00:01, 1251.66it/s]"
     ]
    },
    {
     "name": "stdout",
     "output_type": "stream",
     "text": [
      "Area 1.000, perimeter 3.548 curvature 4.0011 loss 0.0163\n",
      "4.0010834\n"
     ]
    },
    {
     "name": "stderr",
     "output_type": "stream",
     "text": [
      " 84%|████████▎ | 4180/5000 [00:03<00:00, 1359.56it/s]"
     ]
    },
    {
     "name": "stdout",
     "output_type": "stream",
     "text": [
      "Area 1.000, perimeter 3.548 curvature 4.0010 loss 0.0163\n",
      "4.0010304\n"
     ]
    },
    {
     "name": "stderr",
     "output_type": "stream",
     "text": [
      "100%|██████████| 5000/5000 [00:04<00:00, 1239.31it/s]"
     ]
    },
    {
     "name": "stdout",
     "output_type": "stream",
     "text": [
      "Area 1.000, perimeter 3.548 curvature 4.0010 loss 0.0163\n"
     ]
    },
    {
     "name": "stderr",
     "output_type": "stream",
     "text": [
      "\n"
     ]
    }
   ],
   "source": [
    "init = tf.global_variables_initializer()\n",
    "sess = tf.Session()\n",
    "sess.run(init)\n",
    "\n",
    "result = []\n",
    "for n in tqdm(range(5000)):\n",
    "    _, lx, ax, px, kx = sess.run([train_op, loss, area, perimeter, mean_curvature])\n",
    "    if n and n%1000==0:\n",
    "        \n",
    "        print(f\"Area {ax:0.3f}, perimeter {px:0.3f} curvature {kx:0.4f} loss {lx:0.4f}\")\n",
    "        print(kx.mean())\n",
    "    result.append(lx)\n",
    "\n",
    "print(f\"Area {ax:0.3f}, perimeter {px:0.3f} curvature {kx:0.4f} loss {lx:0.4f}\")"
   ]
  },
  {
   "cell_type": "code",
   "execution_count": 241,
   "metadata": {},
   "outputs": [
    {
     "data": {
      "image/png": "[encoded data removed]",
      "text/plain": [
       "<Figure size 432x288 with 1 Axes>"
      ]
     },
     "metadata": {
      "needs_background": "light"
     },
     "output_type": "display_data"
    }
   ],
   "source": [
    "kx = sess.run(ku*d)\n",
    "kx /= kx.max()\n",
    "colors = [cmap(x) for x in kx]\n",
    "\n",
    "rf = sess.run(r)\n",
    "theta = np.linspace(0, 2*np.pi, N+1)[:-1]\n",
    "xf = rf*np.cos(theta)\n",
    "yf = rf*np.sin(theta)\n",
    "\n",
    "plt.plot(xf,yf,'k',lw=1,alpha=0.25,zorder=-10)\n",
    "plt.scatter(xf,yf,marker='o',color=colors)\n",
    "\n",
    "plt.axis('equal')\n",
    "plt.show()"
   ]
  },
  {
   "cell_type": "code",
   "execution_count": null,
   "metadata": {},
   "outputs": [],
   "source": []
  },
  {
   "cell_type": "code",
   "execution_count": null,
   "metadata": {},
   "outputs": [],
   "source": []
  },
  {
   "cell_type": "code",
   "execution_count": null,
   "metadata": {},
   "outputs": [],
   "source": []
  }
 ],
 "metadata": {
  "kernelspec": {
   "display_name": "Python 3",
   "language": "python",
   "name": "python3"
  },
  "language_info": {
   "codemirror_mode": {
    "name": "ipython",
    "version": 3
   },
   "file_extension": ".py",
   "mimetype": "text/x-python",
   "name": "python",
   "nbconvert_exporter": "python",
   "pygments_lexer": "ipython3",
   "version": "3.6.0"
  }
 },
 "nbformat": 4,
 "nbformat_minor": 2
}

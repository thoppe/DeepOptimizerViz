{
 "cells": [
  {
   "cell_type": "code",
   "execution_count": 1,
   "metadata": {
    "collapsed": true,
    "deletable": true,
    "editable": true
   },
   "outputs": [],
   "source": [
    "import tensorflow as tf\n",
    "import numpy as np\n",
    "from tqdm import tqdm"
   ]
  },
  {
   "cell_type": "code",
   "execution_count": 5,
   "metadata": {
    "collapsed": true,
    "deletable": true,
    "editable": true
   },
   "outputs": [],
   "source": [
    "N = 10**5\n",
    "n_iters = 2000\n",
    "n_poly = 10"
   ]
  },
  {
   "cell_type": "code",
   "execution_count": 6,
   "metadata": {
    "collapsed": false,
    "deletable": true,
    "editable": true
   },
   "outputs": [],
   "source": [
    "#g = lambda : tf.constant(np.random.normal(size=[N,]))\n",
    "g = lambda : tf.constant(np.random.uniform(0, 1, size=[N,]))\n",
    "#g = lambda : tf.constant(np.random.gumbel(size=[N,]))\n",
    "#g = lambda : tf.constant(np.random.rayleigh(size=[N,]))\n",
    "\n",
    "x = tf.complex(\n",
    "    tf.Variable(np.random.normal(size=[N,])),\n",
    "    tf.Variable(np.random.normal(size=[N,])),\n",
    ")               "
   ]
  },
  {
   "cell_type": "code",
   "execution_count": 7,
   "metadata": {
    "collapsed": false,
    "deletable": true,
    "editable": true
   },
   "outputs": [],
   "source": [
    "cg = lambda : tf.complex(g(), 0*g())\n",
    "\n",
    "coeffs = [cg() for _ in range(n_poly+1)]\n",
    "poly = tf.math.polyval(coeffs, x)\n",
    "\n",
    "term_error = tf.abs(poly)\n",
    "loss = tf.reduce_sum(term_error)"
   ]
  },
  {
   "cell_type": "code",
   "execution_count": 8,
   "metadata": {
    "collapsed": true,
    "deletable": true,
    "editable": true
   },
   "outputs": [],
   "source": [
    "opt = tf.train.AdamOptimizer(0.0025)\n",
    "train_op = opt.minimize(loss)\n",
    "\n",
    "init = tf.global_variables_initializer()\n",
    "sess = tf.Session()\n",
    "sess.run(init)"
   ]
  },
  {
   "cell_type": "code",
   "execution_count": 9,
   "metadata": {
    "collapsed": false,
    "deletable": true,
    "editable": true
   },
   "outputs": [
    {
     "name": "stderr",
     "output_type": "stream",
     "text": [
      "100%|██████████| 2000/2000 [00:23<00:00, 86.51it/s]\n"
     ]
    },
    {
     "name": "stdout",
     "output_type": "stream",
     "text": [
      "10.369825960029745\n"
     ]
    },
    {
     "data": {
      "text/plain": [
       "('Fraction converged', 0.50956)"
      ]
     },
     "execution_count": 9,
     "metadata": {},
     "output_type": "execute_result"
    }
   ],
   "source": [
    "result, sols = [], []\n",
    "for n in tqdm(range(n_iters)):\n",
    "    _, lx = sess.run([train_op, loss])\n",
    "    result.append(lx)\n",
    "   \n",
    "#result = np.array(result)\n",
    "#sols = np.array(sols)\n",
    "lx, tx = sess.run([loss, term_error])\n",
    "print(lx/N)\n",
    "\n",
    "convergence = sess.run(term_error)\n",
    "idx = convergence < 0.001\n",
    "\"Fraction converged\", idx.mean()"
   ]
  },
  {
   "cell_type": "code",
   "execution_count": 10,
   "metadata": {
    "collapsed": false,
    "deletable": true,
    "editable": true
   },
   "outputs": [
    {
     "data": {
      "text/plain": [
       "<Figure size 640x480 with 1 Axes>"
      ]
     },
     "metadata": {},
     "output_type": "display_data"
    }
   ],
   "source": [
    "import pylab as plt\n",
    "pts = sess.run(x)[idx]\n",
    "plt.scatter(pts.real, pts.imag, s=0.1,alpha=0.25)\n",
    "plt.axis('square')\n",
    "plt.xlim(-2,2)\n",
    "plt.ylim(-2,2)\n",
    "\n",
    "plt.show()"
   ]
  },
  {
   "cell_type": "code",
   "execution_count": null,
   "metadata": {
    "collapsed": true,
    "deletable": true,
    "editable": true
   },
   "outputs": [],
   "source": []
  },
  {
   "cell_type": "code",
   "execution_count": null,
   "metadata": {
    "collapsed": true,
    "deletable": true,
    "editable": true
   },
   "outputs": [],
   "source": []
  }
 ],
 "metadata": {
  "kernelspec": {
   "display_name": "Python 3",
   "language": "python",
   "name": "python3"
  },
  "language_info": {
   "codemirror_mode": {
    "name": "ipython",
    "version": 3
   },
   "file_extension": ".py",
   "mimetype": "text/x-python",
   "name": "python",
   "nbconvert_exporter": "python",
   "pygments_lexer": "ipython3",
   "version": "3.6.0"
  }
 },
 "nbformat": 4,
 "nbformat_minor": 2
}
